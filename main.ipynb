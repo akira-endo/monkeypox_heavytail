{
 "cells": [
  {
   "cell_type": "code",
   "execution_count": null,
   "id": "21e6f887-3f0c-4989-899d-e9830e2e11d0",
   "metadata": {},
   "outputs": [],
   "source": [
    "using Pkg\n",
    "Pkg.activate(\".\")\n",
    "Pkg.instantiate() "
   ]
  },
  {
   "cell_type": "code",
   "execution_count": null,
   "id": "3064e4a1-d1c3-4e6d-b5b1-d30c28a139c1",
   "metadata": {},
   "outputs": [],
   "source": [
    "using CSV\n",
    "using DataFrames\n",
    "df=CSV.read(\"data/natsal_1y_18to44.csv\", DataFrame);"
   ]
  },
  {
   "cell_type": "code",
   "execution_count": null,
   "id": "414b0682-2a2d-462f-ad3c-e83f1e9406d9",
   "metadata": {},
   "outputs": [],
   "source": [
    "MM_all=df[(1 .+4 .*(0:2)),3:end]|>Matrix|>permutedims\n",
    "HM_all=df[(2 .+4 .*(0:2)),3:end]|>Matrix|>permutedims;\n",
    "HW_all=df[(4 .+4 .*(0:2)),3:end]|>Matrix|>permutedims;"
   ]
  },
  {
   "cell_type": "code",
   "execution_count": null,
   "id": "ae0c4c48-c047-42ec-8c34-519657f903e0",
   "metadata": {},
   "outputs": [],
   "source": [
    "params_main = (\n",
    "    κ_msm=0.77, α_msm=0.10,  # 2000–2020\n",
    "    κ_hem=1.68, α_hem=0.01, # 2000–2010\n",
    "    κ_hew=2.14, α_hew=0.01 # 2010\n",
    ")"
   ]
  },
  {
   "cell_type": "code",
   "execution_count": null,
   "id": "d6709fbd-3e7d-40fd-9f9b-a30a1021e88f",
   "metadata": {},
   "outputs": [],
   "source": [
    "module Baseline\n",
    "κ_msm, α_msm, κ_hem, α_hem, κ_hew, α_hew = \n",
    "    getindex.(Ref(Main.params_main), [:κ_msm, :α_msm, :κ_hem, :α_hem, :κ_hew, :α_hew])\n",
    "\n",
    "printtable=true\n",
    "outbreak_iters=100000\n",
    "partnersdata=[sum(Main.MM_all,dims=2) sum(Main.HM_all[:,1:2],dims=2) sum(Main.HW_all[:,2:2],dims=2)]\n",
    "hist_upp=0.08\n",
    "include(\"src/outputs.jl\")\n",
    "end"
   ]
  },
  {
   "cell_type": "code",
   "execution_count": null,
   "id": "35892420-342a-4edf-95e1-872997d43c34",
   "metadata": {},
   "outputs": [],
   "source": [
    "module UKonly\n",
    "κ_msm, α_msm, κ_hem, α_hem, κ_hew, α_hew = \n",
    "    getindex.(Ref(Main.params_main), [:κ_msm, :α_msm, :κ_hem, :α_hem, :κ_hew, :α_hew])\n",
    "currentcases = 190 # as of 31 May in UK\n",
    "printtable=true\n",
    "outbreak_iters=100000\n",
    "partnersdata=[sum(Main.MM_all,dims=2) sum(Main.HM_all[:,1:2],dims=2) sum(Main.HW_all[:,2:2],dims=2)]\n",
    "include(\"src/outputs.jl\")\n",
    "end"
   ]
  },
  {
   "cell_type": "code",
   "execution_count": null,
   "id": "21164f9b-2865-4cd1-acbb-cda23aa93c23",
   "metadata": {},
   "outputs": [],
   "source": [
    "module InfectiousPeriod\n",
    "κ_msm, α_msm, κ_hem, α_hem, κ_hew, α_hew = \n",
    "    getindex.(Ref(Main.params_main), [:κ_msm, :α_msm, :κ_hem, :α_hem, :κ_hew, :α_hew])\n",
    "R0only = true\n",
    "R0list = Vector{Matrix{Float64}}(undef,0)\n",
    "inf_period=0\n",
    "for inf_p in [7,14,28]\n",
    "    global inf_period=inf_p\n",
    "    include(\"src/outputs.jl\")\n",
    "    push!(R0list,R0values)\n",
    "end\n",
    "R0matrix=reduce(hcat,R0list)[:,vec(reshape(1:6,2,3)')]\n",
    "\n",
    "R0valuesplot=plot(sarrange,R0matrix,\n",
    "yaxis=:log,ylim=(0.01,100),linewidth=1.5, palette=:balance,color=[3:-1:1;4:6]'.*35,\n",
    "xlab=\"SAR per sexually-associated contact\", ylab=\"R₀ over sexual network\",legend=:bottomright,\n",
    "label=string.([7 14 28]).*[\" d\"])\n",
    "hline!(R0valuesplot,[1],linestyle=:dot,color=:black,label=\"\") |> display\n",
    "\n",
    "R0redplot=plot(sarrange,max.(0,min.(1,1 .- 1 ./R0matrix)),\n",
    "ylim=(0,1),linewidth=1.5, palette=:balance,color=[3:-1:1;4:6]'.*35,label=string.([7 14 28]).*[\" d\"],\n",
    "xlab=\"SAR per sexually-associated contact\", ylab=\"relative reduction in R₀ for control\",legend=:bottomright)|>display\n",
    "end"
   ]
  },
  {
   "cell_type": "code",
   "execution_count": null,
   "id": "9984e2a9-1b2b-4626-abcf-9aab074b1fa0",
   "metadata": {},
   "outputs": [],
   "source": [
    "params_00_10 = (\n",
    "    κ_msm=0.71, α_msm=0.13, \n",
    "    κ_hem=1.68,α_hem=0.01,\n",
    "    κ_hew=2.33,α_hew=BigFloat(0.003)) \n",
    "params_20 = (\n",
    "    κ_msm=0.83, α_msm=0.09, \n",
    "    κ_hem=2.12,α_hem=0.01,\n",
    "    κ_hew=2.55,α_hew=0.01) "
   ]
  },
  {
   "cell_type": "code",
   "execution_count": null,
   "id": "b8c32803-3185-4771-b8ee-3582f5ba6e8d",
   "metadata": {},
   "outputs": [],
   "source": [
    "module NatsalSubsets\n",
    "R0only = true\n",
    "R0list = Vector{Matrix{Float64}}(undef,0)\n",
    "inf_period=21\n",
    "paramset=[Main.params_00_10, Main.params_20]\n",
    "κ_msm, α_msm, κ_hem, α_hem, κ_hew, α_hew = zeros(6)\n",
    "for params in paramset\n",
    "    global κ_msm, α_msm, κ_hem, α_hem, κ_hew, α_hew = \n",
    "        getindex.(Ref(params), [:κ_msm, :α_msm, :κ_hem, :α_hem, :κ_hew, :α_hew]).|>BigFloat\n",
    "    include(\"src/outputs.jl\")\n",
    "    push!(R0list,R0values)\n",
    "end\n",
    "R0matrix=reduce(hcat,R0list)[:,vec(reshape(1:4,2,2)')]\n",
    "\n",
    "R0valuesplot=plot(sarrange,R0matrix,\n",
    "yaxis=:log,ylim=(0.001,100),linewidth=1.5, palette=:balance,color=[1;2;6;5]'.*35,\n",
    "xlab=\"SAR per sexually-associated contact\", ylab=\"R₀ over sexual network\",legend=:bottomright,\n",
    "label=[\"2000-2010\" \"2020\"])\n",
    "hline!(R0valuesplot,[1],linestyle=:dot,color=:black,label=\"\") |> display\n",
    "\n",
    "R0redplot=plot(sarrange,max.(0,min.(1,1 .- 1 ./R0matrix)),\n",
    "ylim=(0,1),linewidth=1.5, palette=:balance,color=[1;2;6;5]'.*35,label=[\"2000-2010\" \"2020\"],\n",
    "xlab=\"SAR per sexually-associated contact\", ylab=\"relative reduction in R₀ for control\",legend=:bottomright)|>display\n",
    "end"
   ]
  },
  {
   "cell_type": "code",
   "execution_count": null,
   "id": "61a90634-c5f2-4792-b2b4-29ec40ab4a14",
   "metadata": {},
   "outputs": [],
   "source": []
  }
 ],
 "metadata": {
  "kernelspec": {
   "display_name": "Julia 1.7 (4 threads) 1.7.2",
   "language": "julia",
   "name": "julia-1.7-(4-threads)-1.7"
  },
  "language_info": {
   "file_extension": ".jl",
   "mimetype": "application/julia",
   "name": "julia",
   "version": "1.7.2"
  }
 },
 "nbformat": 4,
 "nbformat_minor": 5
}
